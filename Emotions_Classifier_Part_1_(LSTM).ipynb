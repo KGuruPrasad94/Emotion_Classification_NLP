{
  "metadata": {
    "kernelspec": {
      "display_name": "Python 3",
      "name": "python3"
    },
    "language_info": {
      "name": "python",
      "version": "3.10.13",
      "mimetype": "text/x-python",
      "codemirror_mode": {
        "name": "ipython",
        "version": 3
      },
      "pygments_lexer": "ipython3",
      "nbconvert_exporter": "python",
      "file_extension": ".py"
    },
    "kaggle": {
      "accelerator": "none",
      "dataSources": [
        {
          "sourceId": 7563141,
          "sourceType": "datasetVersion",
          "datasetId": 4403839
        }
      ],
      "dockerImageVersionId": 30673,
      "isInternetEnabled": true,
      "language": "python",
      "sourceType": "notebook",
      "isGpuEnabled": false
    },
    "colab": {
      "provenance": [],
      "gpuType": "T4"
    },
    "accelerator": "GPU"
  },
  "nbformat_minor": 0,
  "nbformat": 4,
  "cells": [
    {
      "source": [
        "\n",
        "# IMPORTANT: RUN THIS CELL IN ORDER TO IMPORT YOUR KAGGLE DATA SOURCES\n",
        "# TO THE CORRECT LOCATION (/kaggle/input) IN YOUR NOTEBOOK,\n",
        "# THEN FEEL FREE TO DELETE THIS CELL.\n",
        "# NOTE: THIS NOTEBOOK ENVIRONMENT DIFFERS FROM KAGGLE'S PYTHON\n",
        "# ENVIRONMENT SO THERE MAY BE MISSING LIBRARIES USED BY YOUR\n",
        "# NOTEBOOK.\n",
        "\n",
        "import os\n",
        "import sys\n",
        "from tempfile import NamedTemporaryFile\n",
        "from urllib.request import urlopen\n",
        "from urllib.parse import unquote, urlparse\n",
        "from urllib.error import HTTPError\n",
        "from zipfile import ZipFile\n",
        "import tarfile\n",
        "import shutil\n",
        "\n",
        "CHUNK_SIZE = 40960\n",
        "DATA_SOURCE_MAPPING = 'emotions:https%3A%2F%2Fstorage.googleapis.com%2Fkaggle-data-sets%2F4403839%2F7563141%2Fbundle%2Farchive.zip%3FX-Goog-Algorithm%3DGOOG4-RSA-SHA256%26X-Goog-Credential%3Dgcp-kaggle-com%2540kaggle-161607.iam.gserviceaccount.com%252F20240403%252Fauto%252Fstorage%252Fgoog4_request%26X-Goog-Date%3D20240403T015232Z%26X-Goog-Expires%3D259200%26X-Goog-SignedHeaders%3Dhost%26X-Goog-Signature%3D4a938dc13212dc06016f6ce641109a0ee9e3214eb3977a245aa4c92c5f937c4aab02d5705a14871a58a53fab9af64011e4e6a0d8c6b40b6acca7d39f9e31dd41b7abd9e5278b60a3ff6151342fb815f92a33c2652194e8ec3848f90c79ee69d3f12383de47d5942c03362e7a32de97423027af8626099795ba4f58d8437d6c7035cc5c7690496c41867ea064a6ba8b056c12044921fda0a658fa9553cf0989376597a37b5570c3444c90a96f49a2cd5d9fabc9d3e9f8f9099350077af9ffe4af119551079f61d23dc5e6da68c571fa71b1c53bca33bf6a5cf4cb9345c008046627527aef805150ee6424d12cdec086d8d10ed26f14415c756d8c1014077615bf'\n",
        "\n",
        "KAGGLE_INPUT_PATH='/kaggle/input'\n",
        "KAGGLE_WORKING_PATH='/kaggle/working'\n",
        "KAGGLE_SYMLINK='kaggle'\n",
        "\n",
        "!umount /kaggle/input/ 2> /dev/null\n",
        "shutil.rmtree('/kaggle/input', ignore_errors=True)\n",
        "os.makedirs(KAGGLE_INPUT_PATH, 0o777, exist_ok=True)\n",
        "os.makedirs(KAGGLE_WORKING_PATH, 0o777, exist_ok=True)\n",
        "\n",
        "try:\n",
        "  os.symlink(KAGGLE_INPUT_PATH, os.path.join(\"..\", 'input'), target_is_directory=True)\n",
        "except FileExistsError:\n",
        "  pass\n",
        "try:\n",
        "  os.symlink(KAGGLE_WORKING_PATH, os.path.join(\"..\", 'working'), target_is_directory=True)\n",
        "except FileExistsError:\n",
        "  pass\n",
        "\n",
        "for data_source_mapping in DATA_SOURCE_MAPPING.split(','):\n",
        "    directory, download_url_encoded = data_source_mapping.split(':')\n",
        "    download_url = unquote(download_url_encoded)\n",
        "    filename = urlparse(download_url).path\n",
        "    destination_path = os.path.join(KAGGLE_INPUT_PATH, directory)\n",
        "    try:\n",
        "        with urlopen(download_url) as fileres, NamedTemporaryFile() as tfile:\n",
        "            total_length = fileres.headers['content-length']\n",
        "            print(f'Downloading {directory}, {total_length} bytes compressed')\n",
        "            dl = 0\n",
        "            data = fileres.read(CHUNK_SIZE)\n",
        "            while len(data) > 0:\n",
        "                dl += len(data)\n",
        "                tfile.write(data)\n",
        "                done = int(50 * dl / int(total_length))\n",
        "                sys.stdout.write(f\"\\r[{'=' * done}{' ' * (50-done)}] {dl} bytes downloaded\")\n",
        "                sys.stdout.flush()\n",
        "                data = fileres.read(CHUNK_SIZE)\n",
        "            if filename.endswith('.zip'):\n",
        "              with ZipFile(tfile) as zfile:\n",
        "                zfile.extractall(destination_path)\n",
        "            else:\n",
        "              with tarfile.open(tfile.name) as tarfile:\n",
        "                tarfile.extractall(destination_path)\n",
        "            print(f'\\nDownloaded and uncompressed: {directory}')\n",
        "    except HTTPError as e:\n",
        "        print(f'Failed to load (likely expired) {download_url} to path {destination_path}')\n",
        "        continue\n",
        "    except OSError as e:\n",
        "        print(f'Failed to load {download_url} to path {destination_path}')\n",
        "        continue\n",
        "\n",
        "print('Data source import complete.')\n"
      ],
      "metadata": {
        "id": "Farx7ckFqHfd",
        "outputId": "8f22421f-c4e3-4652-a017-9161c5783ea4",
        "colab": {
          "base_uri": "https://localhost:8080/"
        }
      },
      "cell_type": "code",
      "outputs": [
        {
          "output_type": "stream",
          "name": "stdout",
          "text": [
            "Downloading emotions, 16440679 bytes compressed\n",
            "[==================================================] 16440679 bytes downloaded\n",
            "Downloaded and uncompressed: emotions\n",
            "Data source import complete.\n"
          ]
        }
      ],
      "execution_count": null
    },
    {
      "cell_type": "code",
      "source": [
        "# This Python 3 environment comes with many helpful analytics libraries installed\n",
        "# It is defined by the kaggle/python Docker image: https://github.com/kaggle/docker-python\n",
        "# For example, here's several helpful packages to load\n",
        "\n",
        "import numpy as np # linear algebra\n",
        "import pandas as pd # data processing, CSV file I/O (e.g. pd.read_csv)\n",
        "\n",
        "# Input data files are available in the read-only \"../input/\" directory\n",
        "# For example, running this (by clicking run or pressing Shift+Enter) will list all files under the input directory\n",
        "\n",
        "import os\n",
        "for dirname, _, filenames in os.walk('/kaggle/input'):\n",
        "    for filename in filenames:\n",
        "        print(os.path.join(dirname, filename))\n",
        "\n",
        "# You can write up to 20GB to the current directory (/kaggle/working/) that gets preserved as output when you create a version using \"Save & Run All\"\n",
        "# You can also write temporary files to /kaggle/temp/, but they won't be saved outside of the current session"
      ],
      "metadata": {
        "_uuid": "8f2839f25d086af736a60e9eeb907d3b93b6e0e5",
        "_cell_guid": "b1076dfc-b9ad-4769-8c92-a6c4dae69d19",
        "execution": {
          "iopub.status.busy": "2024-04-02T23:49:01.244358Z",
          "iopub.execute_input": "2024-04-02T23:49:01.244867Z",
          "iopub.status.idle": "2024-04-02T23:49:02.423541Z",
          "shell.execute_reply.started": "2024-04-02T23:49:01.244827Z",
          "shell.execute_reply": "2024-04-02T23:49:02.422312Z"
        },
        "trusted": true,
        "id": "fN6IWsKaqHfj",
        "outputId": "1b827956-a1ae-48e6-8744-d89267a4f463",
        "colab": {
          "base_uri": "https://localhost:8080/"
        }
      },
      "execution_count": null,
      "outputs": [
        {
          "output_type": "stream",
          "name": "stdout",
          "text": [
            "/kaggle/input/emotions/text.csv\n"
          ]
        }
      ]
    },
    {
      "cell_type": "code",
      "source": [
        "import nltk\n",
        "from nltk.corpus import stopwords\n",
        "from nltk.tokenize import word_tokenize\n",
        "from nltk.stem import WordNetLemmatizer\n",
        "from sklearn.feature_extraction.text import TfidfVectorizer\n",
        "from sklearn.model_selection import train_test_split\n",
        "from sklearn.naive_bayes import MultinomialNB\n",
        "from sklearn.metrics import classification_report\n",
        "from imblearn.over_sampling import SMOTE\n",
        "\n",
        "import matplotlib.pyplot as plt\n",
        "import seaborn as sns"
      ],
      "metadata": {
        "execution": {
          "iopub.status.busy": "2024-04-02T23:49:02.425329Z",
          "iopub.execute_input": "2024-04-02T23:49:02.425737Z",
          "iopub.status.idle": "2024-04-02T23:49:05.133339Z",
          "shell.execute_reply.started": "2024-04-02T23:49:02.425714Z",
          "shell.execute_reply": "2024-04-02T23:49:05.131893Z"
        },
        "trusted": true,
        "id": "wIke_9eqqHfl"
      },
      "execution_count": null,
      "outputs": []
    },
    {
      "cell_type": "code",
      "source": [
        "df = pd.read_csv('/kaggle/input/emotions/text.csv')"
      ],
      "metadata": {
        "execution": {
          "iopub.status.busy": "2024-04-02T23:49:05.134672Z",
          "iopub.execute_input": "2024-04-02T23:49:05.135144Z",
          "iopub.status.idle": "2024-04-02T23:49:06.322571Z",
          "shell.execute_reply.started": "2024-04-02T23:49:05.135116Z",
          "shell.execute_reply": "2024-04-02T23:49:06.321648Z"
        },
        "trusted": true,
        "id": "lE9_AEYfqHfm"
      },
      "execution_count": null,
      "outputs": []
    },
    {
      "cell_type": "markdown",
      "source": [
        "# Data Exploration"
      ],
      "metadata": {
        "id": "omKLY1SIqHfm"
      }
    },
    {
      "cell_type": "code",
      "source": [
        "df.head()"
      ],
      "metadata": {
        "execution": {
          "iopub.status.busy": "2024-04-02T23:49:06.32461Z",
          "iopub.execute_input": "2024-04-02T23:49:06.3249Z",
          "iopub.status.idle": "2024-04-02T23:49:06.343762Z",
          "shell.execute_reply.started": "2024-04-02T23:49:06.324877Z",
          "shell.execute_reply": "2024-04-02T23:49:06.342311Z"
        },
        "trusted": true,
        "id": "w-1GAYtoqHfo",
        "outputId": "eb019250-b579-4b8b-fc3f-7d4da816f4a7",
        "colab": {
          "base_uri": "https://localhost:8080/",
          "height": 206
        }
      },
      "execution_count": null,
      "outputs": [
        {
          "output_type": "execute_result",
          "data": {
            "text/plain": [
              "   Unnamed: 0                                               text  label\n",
              "0           0      i just feel really helpless and heavy hearted      4\n",
              "1           1  ive enjoyed being able to slouch about relax a...      0\n",
              "2           2  i gave up my internship with the dmrg and am f...      4\n",
              "3           3                         i dont know i feel so lost      0\n",
              "4           4  i am a kindergarten teacher and i am thoroughl...      4"
            ],
            "text/html": [
              "\n",
              "  <div id=\"df-aa9adcad-b0b4-43a3-be80-e54ed2fc37d8\" class=\"colab-df-container\">\n",
              "    <div>\n",
              "<style scoped>\n",
              "    .dataframe tbody tr th:only-of-type {\n",
              "        vertical-align: middle;\n",
              "    }\n",
              "\n",
              "    .dataframe tbody tr th {\n",
              "        vertical-align: top;\n",
              "    }\n",
              "\n",
              "    .dataframe thead th {\n",
              "        text-align: right;\n",
              "    }\n",
              "</style>\n",
              "<table border=\"1\" class=\"dataframe\">\n",
              "  <thead>\n",
              "    <tr style=\"text-align: right;\">\n",
              "      <th></th>\n",
              "      <th>Unnamed: 0</th>\n",
              "      <th>text</th>\n",
              "      <th>label</th>\n",
              "    </tr>\n",
              "  </thead>\n",
              "  <tbody>\n",
              "    <tr>\n",
              "      <th>0</th>\n",
              "      <td>0</td>\n",
              "      <td>i just feel really helpless and heavy hearted</td>\n",
              "      <td>4</td>\n",
              "    </tr>\n",
              "    <tr>\n",
              "      <th>1</th>\n",
              "      <td>1</td>\n",
              "      <td>ive enjoyed being able to slouch about relax a...</td>\n",
              "      <td>0</td>\n",
              "    </tr>\n",
              "    <tr>\n",
              "      <th>2</th>\n",
              "      <td>2</td>\n",
              "      <td>i gave up my internship with the dmrg and am f...</td>\n",
              "      <td>4</td>\n",
              "    </tr>\n",
              "    <tr>\n",
              "      <th>3</th>\n",
              "      <td>3</td>\n",
              "      <td>i dont know i feel so lost</td>\n",
              "      <td>0</td>\n",
              "    </tr>\n",
              "    <tr>\n",
              "      <th>4</th>\n",
              "      <td>4</td>\n",
              "      <td>i am a kindergarten teacher and i am thoroughl...</td>\n",
              "      <td>4</td>\n",
              "    </tr>\n",
              "  </tbody>\n",
              "</table>\n",
              "</div>\n",
              "    <div class=\"colab-df-buttons\">\n",
              "\n",
              "  <div class=\"colab-df-container\">\n",
              "    <button class=\"colab-df-convert\" onclick=\"convertToInteractive('df-aa9adcad-b0b4-43a3-be80-e54ed2fc37d8')\"\n",
              "            title=\"Convert this dataframe to an interactive table.\"\n",
              "            style=\"display:none;\">\n",
              "\n",
              "  <svg xmlns=\"http://www.w3.org/2000/svg\" height=\"24px\" viewBox=\"0 -960 960 960\">\n",
              "    <path d=\"M120-120v-720h720v720H120Zm60-500h600v-160H180v160Zm220 220h160v-160H400v160Zm0 220h160v-160H400v160ZM180-400h160v-160H180v160Zm440 0h160v-160H620v160ZM180-180h160v-160H180v160Zm440 0h160v-160H620v160Z\"/>\n",
              "  </svg>\n",
              "    </button>\n",
              "\n",
              "  <style>\n",
              "    .colab-df-container {\n",
              "      display:flex;\n",
              "      gap: 12px;\n",
              "    }\n",
              "\n",
              "    .colab-df-convert {\n",
              "      background-color: #E8F0FE;\n",
              "      border: none;\n",
              "      border-radius: 50%;\n",
              "      cursor: pointer;\n",
              "      display: none;\n",
              "      fill: #1967D2;\n",
              "      height: 32px;\n",
              "      padding: 0 0 0 0;\n",
              "      width: 32px;\n",
              "    }\n",
              "\n",
              "    .colab-df-convert:hover {\n",
              "      background-color: #E2EBFA;\n",
              "      box-shadow: 0px 1px 2px rgba(60, 64, 67, 0.3), 0px 1px 3px 1px rgba(60, 64, 67, 0.15);\n",
              "      fill: #174EA6;\n",
              "    }\n",
              "\n",
              "    .colab-df-buttons div {\n",
              "      margin-bottom: 4px;\n",
              "    }\n",
              "\n",
              "    [theme=dark] .colab-df-convert {\n",
              "      background-color: #3B4455;\n",
              "      fill: #D2E3FC;\n",
              "    }\n",
              "\n",
              "    [theme=dark] .colab-df-convert:hover {\n",
              "      background-color: #434B5C;\n",
              "      box-shadow: 0px 1px 3px 1px rgba(0, 0, 0, 0.15);\n",
              "      filter: drop-shadow(0px 1px 2px rgba(0, 0, 0, 0.3));\n",
              "      fill: #FFFFFF;\n",
              "    }\n",
              "  </style>\n",
              "\n",
              "    <script>\n",
              "      const buttonEl =\n",
              "        document.querySelector('#df-aa9adcad-b0b4-43a3-be80-e54ed2fc37d8 button.colab-df-convert');\n",
              "      buttonEl.style.display =\n",
              "        google.colab.kernel.accessAllowed ? 'block' : 'none';\n",
              "\n",
              "      async function convertToInteractive(key) {\n",
              "        const element = document.querySelector('#df-aa9adcad-b0b4-43a3-be80-e54ed2fc37d8');\n",
              "        const dataTable =\n",
              "          await google.colab.kernel.invokeFunction('convertToInteractive',\n",
              "                                                    [key], {});\n",
              "        if (!dataTable) return;\n",
              "\n",
              "        const docLinkHtml = 'Like what you see? Visit the ' +\n",
              "          '<a target=\"_blank\" href=https://colab.research.google.com/notebooks/data_table.ipynb>data table notebook</a>'\n",
              "          + ' to learn more about interactive tables.';\n",
              "        element.innerHTML = '';\n",
              "        dataTable['output_type'] = 'display_data';\n",
              "        await google.colab.output.renderOutput(dataTable, element);\n",
              "        const docLink = document.createElement('div');\n",
              "        docLink.innerHTML = docLinkHtml;\n",
              "        element.appendChild(docLink);\n",
              "      }\n",
              "    </script>\n",
              "  </div>\n",
              "\n",
              "\n",
              "<div id=\"df-aee896c5-c850-4155-9e26-c13da2c7a230\">\n",
              "  <button class=\"colab-df-quickchart\" onclick=\"quickchart('df-aee896c5-c850-4155-9e26-c13da2c7a230')\"\n",
              "            title=\"Suggest charts\"\n",
              "            style=\"display:none;\">\n",
              "\n",
              "<svg xmlns=\"http://www.w3.org/2000/svg\" height=\"24px\"viewBox=\"0 0 24 24\"\n",
              "     width=\"24px\">\n",
              "    <g>\n",
              "        <path d=\"M19 3H5c-1.1 0-2 .9-2 2v14c0 1.1.9 2 2 2h14c1.1 0 2-.9 2-2V5c0-1.1-.9-2-2-2zM9 17H7v-7h2v7zm4 0h-2V7h2v10zm4 0h-2v-4h2v4z\"/>\n",
              "    </g>\n",
              "</svg>\n",
              "  </button>\n",
              "\n",
              "<style>\n",
              "  .colab-df-quickchart {\n",
              "      --bg-color: #E8F0FE;\n",
              "      --fill-color: #1967D2;\n",
              "      --hover-bg-color: #E2EBFA;\n",
              "      --hover-fill-color: #174EA6;\n",
              "      --disabled-fill-color: #AAA;\n",
              "      --disabled-bg-color: #DDD;\n",
              "  }\n",
              "\n",
              "  [theme=dark] .colab-df-quickchart {\n",
              "      --bg-color: #3B4455;\n",
              "      --fill-color: #D2E3FC;\n",
              "      --hover-bg-color: #434B5C;\n",
              "      --hover-fill-color: #FFFFFF;\n",
              "      --disabled-bg-color: #3B4455;\n",
              "      --disabled-fill-color: #666;\n",
              "  }\n",
              "\n",
              "  .colab-df-quickchart {\n",
              "    background-color: var(--bg-color);\n",
              "    border: none;\n",
              "    border-radius: 50%;\n",
              "    cursor: pointer;\n",
              "    display: none;\n",
              "    fill: var(--fill-color);\n",
              "    height: 32px;\n",
              "    padding: 0;\n",
              "    width: 32px;\n",
              "  }\n",
              "\n",
              "  .colab-df-quickchart:hover {\n",
              "    background-color: var(--hover-bg-color);\n",
              "    box-shadow: 0 1px 2px rgba(60, 64, 67, 0.3), 0 1px 3px 1px rgba(60, 64, 67, 0.15);\n",
              "    fill: var(--button-hover-fill-color);\n",
              "  }\n",
              "\n",
              "  .colab-df-quickchart-complete:disabled,\n",
              "  .colab-df-quickchart-complete:disabled:hover {\n",
              "    background-color: var(--disabled-bg-color);\n",
              "    fill: var(--disabled-fill-color);\n",
              "    box-shadow: none;\n",
              "  }\n",
              "\n",
              "  .colab-df-spinner {\n",
              "    border: 2px solid var(--fill-color);\n",
              "    border-color: transparent;\n",
              "    border-bottom-color: var(--fill-color);\n",
              "    animation:\n",
              "      spin 1s steps(1) infinite;\n",
              "  }\n",
              "\n",
              "  @keyframes spin {\n",
              "    0% {\n",
              "      border-color: transparent;\n",
              "      border-bottom-color: var(--fill-color);\n",
              "      border-left-color: var(--fill-color);\n",
              "    }\n",
              "    20% {\n",
              "      border-color: transparent;\n",
              "      border-left-color: var(--fill-color);\n",
              "      border-top-color: var(--fill-color);\n",
              "    }\n",
              "    30% {\n",
              "      border-color: transparent;\n",
              "      border-left-color: var(--fill-color);\n",
              "      border-top-color: var(--fill-color);\n",
              "      border-right-color: var(--fill-color);\n",
              "    }\n",
              "    40% {\n",
              "      border-color: transparent;\n",
              "      border-right-color: var(--fill-color);\n",
              "      border-top-color: var(--fill-color);\n",
              "    }\n",
              "    60% {\n",
              "      border-color: transparent;\n",
              "      border-right-color: var(--fill-color);\n",
              "    }\n",
              "    80% {\n",
              "      border-color: transparent;\n",
              "      border-right-color: var(--fill-color);\n",
              "      border-bottom-color: var(--fill-color);\n",
              "    }\n",
              "    90% {\n",
              "      border-color: transparent;\n",
              "      border-bottom-color: var(--fill-color);\n",
              "    }\n",
              "  }\n",
              "</style>\n",
              "\n",
              "  <script>\n",
              "    async function quickchart(key) {\n",
              "      const quickchartButtonEl =\n",
              "        document.querySelector('#' + key + ' button');\n",
              "      quickchartButtonEl.disabled = true;  // To prevent multiple clicks.\n",
              "      quickchartButtonEl.classList.add('colab-df-spinner');\n",
              "      try {\n",
              "        const charts = await google.colab.kernel.invokeFunction(\n",
              "            'suggestCharts', [key], {});\n",
              "      } catch (error) {\n",
              "        console.error('Error during call to suggestCharts:', error);\n",
              "      }\n",
              "      quickchartButtonEl.classList.remove('colab-df-spinner');\n",
              "      quickchartButtonEl.classList.add('colab-df-quickchart-complete');\n",
              "    }\n",
              "    (() => {\n",
              "      let quickchartButtonEl =\n",
              "        document.querySelector('#df-aee896c5-c850-4155-9e26-c13da2c7a230 button');\n",
              "      quickchartButtonEl.style.display =\n",
              "        google.colab.kernel.accessAllowed ? 'block' : 'none';\n",
              "    })();\n",
              "  </script>\n",
              "</div>\n",
              "\n",
              "    </div>\n",
              "  </div>\n"
            ],
            "application/vnd.google.colaboratory.intrinsic+json": {
              "type": "dataframe",
              "variable_name": "df"
            }
          },
          "metadata": {},
          "execution_count": 5
        }
      ]
    },
    {
      "cell_type": "code",
      "source": [
        "df.drop(columns=['Unnamed: 0'], inplace=True)"
      ],
      "metadata": {
        "execution": {
          "iopub.status.busy": "2024-04-02T23:49:06.345047Z",
          "iopub.execute_input": "2024-04-02T23:49:06.345352Z",
          "iopub.status.idle": "2024-04-02T23:49:06.37001Z",
          "shell.execute_reply.started": "2024-04-02T23:49:06.345301Z",
          "shell.execute_reply": "2024-04-02T23:49:06.368612Z"
        },
        "trusted": true,
        "id": "l7Oqe1MmqHfp"
      },
      "execution_count": null,
      "outputs": []
    },
    {
      "cell_type": "code",
      "source": [
        "df.info()"
      ],
      "metadata": {
        "execution": {
          "iopub.status.busy": "2024-04-02T23:49:06.371702Z",
          "iopub.execute_input": "2024-04-02T23:49:06.37215Z",
          "iopub.status.idle": "2024-04-02T23:49:06.430213Z",
          "shell.execute_reply.started": "2024-04-02T23:49:06.37212Z",
          "shell.execute_reply": "2024-04-02T23:49:06.429329Z"
        },
        "trusted": true,
        "id": "YARkCA--qHfq",
        "outputId": "a6c2b929-9d2f-4191-9556-3a3aad1665d8",
        "colab": {
          "base_uri": "https://localhost:8080/"
        }
      },
      "execution_count": null,
      "outputs": [
        {
          "output_type": "stream",
          "name": "stdout",
          "text": [
            "<class 'pandas.core.frame.DataFrame'>\n",
            "RangeIndex: 416809 entries, 0 to 416808\n",
            "Data columns (total 2 columns):\n",
            " #   Column  Non-Null Count   Dtype \n",
            "---  ------  --------------   ----- \n",
            " 0   text    416809 non-null  object\n",
            " 1   label   416809 non-null  int64 \n",
            "dtypes: int64(1), object(1)\n",
            "memory usage: 6.4+ MB\n"
          ]
        }
      ]
    },
    {
      "cell_type": "code",
      "source": [
        "df.duplicated().sum()"
      ],
      "metadata": {
        "execution": {
          "iopub.status.busy": "2024-04-02T23:49:06.43192Z",
          "iopub.execute_input": "2024-04-02T23:49:06.432431Z",
          "iopub.status.idle": "2024-04-02T23:49:06.661272Z",
          "shell.execute_reply.started": "2024-04-02T23:49:06.432403Z",
          "shell.execute_reply": "2024-04-02T23:49:06.660025Z"
        },
        "trusted": true,
        "id": "77L0SSTyqHfq",
        "outputId": "5319779d-2dfa-4f7a-f872-b11f66cbd891",
        "colab": {
          "base_uri": "https://localhost:8080/"
        }
      },
      "execution_count": null,
      "outputs": [
        {
          "output_type": "execute_result",
          "data": {
            "text/plain": [
              "686"
            ]
          },
          "metadata": {},
          "execution_count": 8
        }
      ]
    },
    {
      "cell_type": "code",
      "source": [
        "df = df.drop_duplicates()"
      ],
      "metadata": {
        "execution": {
          "iopub.status.busy": "2024-04-02T23:49:06.662438Z",
          "iopub.execute_input": "2024-04-02T23:49:06.662807Z",
          "iopub.status.idle": "2024-04-02T23:49:06.915213Z",
          "shell.execute_reply.started": "2024-04-02T23:49:06.662772Z",
          "shell.execute_reply": "2024-04-02T23:49:06.914144Z"
        },
        "trusted": true,
        "id": "-dnTYxY-qHfr"
      },
      "execution_count": null,
      "outputs": []
    },
    {
      "cell_type": "code",
      "source": [
        "# mapping emotions\n",
        "emotion_map = {\n",
        "    0: 'sadness',\n",
        "    1: 'joy',\n",
        "    2: 'love',\n",
        "    3: 'anger',\n",
        "    4: 'fear',\n",
        "    5: 'surprise'\n",
        "}\n",
        "\n",
        "df['label_emotion'] = df['label'].map(emotion_map)"
      ],
      "metadata": {
        "execution": {
          "iopub.status.busy": "2024-04-02T23:49:06.916936Z",
          "iopub.execute_input": "2024-04-02T23:49:06.917266Z",
          "iopub.status.idle": "2024-04-02T23:49:06.933276Z",
          "shell.execute_reply.started": "2024-04-02T23:49:06.917239Z",
          "shell.execute_reply": "2024-04-02T23:49:06.93229Z"
        },
        "trusted": true,
        "id": "0nzxSOV4qHfs",
        "outputId": "9f5fa6ea-c73c-40cd-9737-d2555767f44d",
        "colab": {
          "base_uri": "https://localhost:8080/"
        }
      },
      "execution_count": null,
      "outputs": [
        {
          "output_type": "stream",
          "name": "stderr",
          "text": [
            "<ipython-input-10-d7ea3e559667>:11: SettingWithCopyWarning: \n",
            "A value is trying to be set on a copy of a slice from a DataFrame.\n",
            "Try using .loc[row_indexer,col_indexer] = value instead\n",
            "\n",
            "See the caveats in the documentation: https://pandas.pydata.org/pandas-docs/stable/user_guide/indexing.html#returning-a-view-versus-a-copy\n",
            "  df['label_emotion'] = df['label'].map(emotion_map)\n"
          ]
        }
      ]
    },
    {
      "cell_type": "code",
      "source": [
        "# check label distribution\n",
        "label_counts = df['label_emotion'].value_counts()\n",
        "\n",
        "# plot label distribution\n",
        "plt.figure(figsize=(8, 6))\n",
        "sns.barplot(x=label_counts.index, y=label_counts.values)\n",
        "plt.title('Distribution of Emotion Labels')\n",
        "plt.xlabel('Emotion Label')\n",
        "plt.ylabel('Frequency')\n",
        "plt.show()"
      ],
      "metadata": {
        "execution": {
          "iopub.status.busy": "2024-04-02T23:49:06.93869Z",
          "iopub.execute_input": "2024-04-02T23:49:06.939068Z",
          "iopub.status.idle": "2024-04-02T23:49:07.19691Z",
          "shell.execute_reply.started": "2024-04-02T23:49:06.939033Z",
          "shell.execute_reply": "2024-04-02T23:49:07.195758Z"
        },
        "trusted": true,
        "id": "lyuSeUGLqHfs",
        "outputId": "f1335700-0762-4461-a23d-4b2781f2ce4c",
        "colab": {
          "base_uri": "https://localhost:8080/",
          "height": 564
        }
      },
      "execution_count": null,
      "outputs": [
        {
          "output_type": "display_data",
          "data": {
            "text/plain": [
              "<Figure size 800x600 with 1 Axes>"
            ],
            "image/png": "[encoded data removed]"
          },
          "metadata": {}
        }
      ]
    },
    {
      "cell_type": "code",
      "source": [
        "label_counts"
      ],
      "metadata": {
        "execution": {
          "iopub.status.busy": "2024-04-02T23:49:07.198043Z",
          "iopub.execute_input": "2024-04-02T23:49:07.198327Z",
          "iopub.status.idle": "2024-04-02T23:49:07.205746Z",
          "shell.execute_reply.started": "2024-04-02T23:49:07.198302Z",
          "shell.execute_reply": "2024-04-02T23:49:07.204743Z"
        },
        "trusted": true,
        "id": "_iSzR0CbqHfs",
        "outputId": "89858ddf-e168-41a2-b1b6-bec277d6bf0b",
        "colab": {
          "base_uri": "https://localhost:8080/"
        }
      },
      "execution_count": null,
      "outputs": [
        {
          "output_type": "execute_result",
          "data": {
            "text/plain": [
              "joy         140779\n",
              "sadness     120989\n",
              "anger        57235\n",
              "fear         47664\n",
              "love         34497\n",
              "surprise     14959\n",
              "Name: label_emotion, dtype: int64"
            ]
          },
          "metadata": {},
          "execution_count": 12
        }
      ]
    },
    {
      "cell_type": "markdown",
      "source": [
        "From the label distribution, we can see that there is class imbalance in the dataset with some classes having significantly more samples than others."
      ],
      "metadata": {
        "id": "a5k7PtcwqHft"
      }
    },
    {
      "cell_type": "markdown",
      "source": [
        "# Data Cleaning & Preprocessing"
      ],
      "metadata": {
        "id": "OpiZGbvkqHft"
      }
    },
    {
      "cell_type": "code",
      "source": [
        "# removing punctuation and special characters, digits, white spaces\n",
        "df['text'] = df['text'].str.replace('[^\\w\\s]', '')"
      ],
      "metadata": {
        "execution": {
          "iopub.status.busy": "2024-04-02T23:49:07.206821Z",
          "iopub.execute_input": "2024-04-02T23:49:07.207477Z",
          "iopub.status.idle": "2024-04-02T23:49:07.365913Z",
          "shell.execute_reply.started": "2024-04-02T23:49:07.207453Z",
          "shell.execute_reply": "2024-04-02T23:49:07.364907Z"
        },
        "trusted": true,
        "id": "XwAcjbBeqHfz",
        "outputId": "c02be17a-e505-4bba-a060-c5f434f50162",
        "colab": {
          "base_uri": "https://localhost:8080/"
        }
      },
      "execution_count": null,
      "outputs": [
        {
          "output_type": "stream",
          "name": "stderr",
          "text": [
            "<ipython-input-13-70b007434805>:2: FutureWarning: The default value of regex will change from True to False in a future version.\n",
            "  df['text'] = df['text'].str.replace('[^\\w\\s]', '')\n"
          ]
        }
      ]
    },
    {
      "cell_type": "code",
      "source": [
        "#converting to lower case\n",
        "df['text'] = df['text'].str.lower()"
      ],
      "metadata": {
        "execution": {
          "iopub.status.busy": "2024-04-02T23:49:07.366925Z",
          "iopub.execute_input": "2024-04-02T23:49:07.367216Z",
          "iopub.status.idle": "2024-04-02T23:49:07.501433Z",
          "shell.execute_reply.started": "2024-04-02T23:49:07.367189Z",
          "shell.execute_reply": "2024-04-02T23:49:07.500064Z"
        },
        "trusted": true,
        "id": "tB4SG6uOqHfz"
      },
      "execution_count": null,
      "outputs": []
    },
    {
      "cell_type": "code",
      "source": [
        "# removing url's\n",
        "df['text'] = df['text'].str.replace(r'https?://\\S+|www\\.\\S+', '', regex=True)"
      ],
      "metadata": {
        "execution": {
          "iopub.status.busy": "2024-04-02T23:49:07.502645Z",
          "iopub.execute_input": "2024-04-02T23:49:07.503019Z",
          "iopub.status.idle": "2024-04-02T23:49:08.1439Z",
          "shell.execute_reply.started": "2024-04-02T23:49:07.502975Z",
          "shell.execute_reply": "2024-04-02T23:49:08.142574Z"
        },
        "trusted": true,
        "id": "KiDyk4peqHf0"
      },
      "execution_count": null,
      "outputs": []
    },
    {
      "cell_type": "code",
      "source": [
        "import spacy\n",
        "nlp = spacy.load('en_core_web_sm')"
      ],
      "metadata": {
        "execution": {
          "iopub.status.busy": "2024-04-02T23:49:08.145342Z",
          "iopub.execute_input": "2024-04-02T23:49:08.14574Z",
          "iopub.status.idle": "2024-04-02T23:49:13.786066Z",
          "shell.execute_reply.started": "2024-04-02T23:49:08.14571Z",
          "shell.execute_reply": "2024-04-02T23:49:13.785103Z"
        },
        "trusted": true,
        "id": "yZA6gj4eqHf0"
      },
      "execution_count": null,
      "outputs": []
    },
    {
      "cell_type": "code",
      "source": [
        "# function to remove stop words using spacy\n",
        "def remove_stopwords(text):\n",
        "    doc = nlp(text)\n",
        "    filtered_text = [token.text for token in doc if not token.is_stop]\n",
        "    return ' '.join(filtered_text)\n",
        "\n",
        "df['text'] = df['text'].apply(remove_stopwords)"
      ],
      "metadata": {
        "execution": {
          "iopub.status.busy": "2024-04-02T23:49:13.787709Z",
          "iopub.execute_input": "2024-04-02T23:49:13.788198Z",
          "iopub.status.idle": "2024-04-03T00:39:26.056944Z",
          "shell.execute_reply.started": "2024-04-02T23:49:13.788173Z",
          "shell.execute_reply": "2024-04-03T00:39:26.055716Z"
        },
        "trusted": true,
        "id": "FWbfAnrUqHf1"
      },
      "execution_count": null,
      "outputs": []
    },
    {
      "cell_type": "code",
      "source": [
        "#def lemmatize_text_spacy(text):\n",
        "#    doc = nlp(text)\n",
        "#    lemma_words = [token.lemma_ for token in doc]\n",
        "#    lemma_text = ' '.join(lemma_words)\n",
        "#    return lemma_text\n",
        "\n",
        "#df['text'] = df['text'].apply(lemmatize_text_spacy)"
      ],
      "metadata": {
        "execution": {
          "iopub.status.busy": "2024-04-03T00:39:26.059069Z",
          "iopub.execute_input": "2024-04-03T00:39:26.059458Z",
          "iopub.status.idle": "2024-04-03T00:39:26.065309Z",
          "shell.execute_reply.started": "2024-04-03T00:39:26.059422Z",
          "shell.execute_reply": "2024-04-03T00:39:26.063885Z"
        },
        "trusted": true,
        "id": "ZbhSskzFqHf1"
      },
      "execution_count": null,
      "outputs": []
    },
    {
      "cell_type": "code",
      "source": [
        "df['text'][0:5]"
      ],
      "metadata": {
        "execution": {
          "iopub.status.busy": "2024-04-03T00:39:26.066838Z",
          "iopub.execute_input": "2024-04-03T00:39:26.067218Z",
          "iopub.status.idle": "2024-04-03T00:39:26.087977Z",
          "shell.execute_reply.started": "2024-04-03T00:39:26.067186Z",
          "shell.execute_reply": "2024-04-03T00:39:26.086041Z"
        },
        "trusted": true,
        "id": "iBpPXufMqHf1",
        "outputId": "c32a15cc-b6d3-4719-99ed-1ad9cb7d9989",
        "colab": {
          "base_uri": "https://localhost:8080/"
        }
      },
      "execution_count": null,
      "outputs": [
        {
          "output_type": "execute_result",
          "data": {
            "text/plain": [
              "0                          feel helpless heavy hearted\n",
              "1    ve enjoyed able slouch relax unwind frankly ne...\n",
              "2              gave internship dmrg feeling distraught\n",
              "3                                    nt know feel lost\n",
              "4    kindergarten teacher thoroughly weary job havi...\n",
              "Name: text, dtype: object"
            ]
          },
          "metadata": {},
          "execution_count": 19
        }
      ]
    },
    {
      "cell_type": "code",
      "source": [
        "# TF-IDF Vectorization\n",
        "#tfidf_vectorizer = TfidfVectorizer(max_features=1000)\n",
        "#tfidf_features = tfidf_vectorizer.fit_transform(df['text']).toarray()\n",
        "\n",
        "# Convert TF-IDF features to DataFrame\n",
        "#tfidf_df = pd.DataFrame(tfidf_features, columns=tfidf_vectorizer.get_feature_names_out())\n",
        "#tfidf_df.head()"
      ],
      "metadata": {
        "execution": {
          "iopub.status.busy": "2024-04-03T00:39:26.089624Z",
          "iopub.execute_input": "2024-04-03T00:39:26.090035Z",
          "iopub.status.idle": "2024-04-03T00:39:26.099653Z",
          "shell.execute_reply.started": "2024-04-03T00:39:26.089997Z",
          "shell.execute_reply": "2024-04-03T00:39:26.098245Z"
        },
        "trusted": true,
        "id": "n1A7PKuGqHf2"
      },
      "execution_count": null,
      "outputs": []
    },
    {
      "cell_type": "markdown",
      "source": [
        "# Data Modelling - Part 1 (Exploring Bi-LSTM model)"
      ],
      "metadata": {
        "id": "EZP5JzS1qHf2"
      }
    },
    {
      "cell_type": "code",
      "source": [
        "from sklearn.preprocessing import LabelEncoder\n",
        "import tensorflow as tf\n",
        "from tensorflow.keras.models import Sequential\n",
        "from tensorflow.keras.layers import Embedding, LSTM, Dense, Dropout"
      ],
      "metadata": {
        "execution": {
          "iopub.status.busy": "2024-04-03T00:39:26.101462Z",
          "iopub.execute_input": "2024-04-03T00:39:26.102262Z",
          "iopub.status.idle": "2024-04-03T00:39:40.59678Z",
          "shell.execute_reply.started": "2024-04-03T00:39:26.102228Z",
          "shell.execute_reply": "2024-04-03T00:39:40.59579Z"
        },
        "trusted": true,
        "id": "fvEQr9_iqHf3"
      },
      "execution_count": null,
      "outputs": []
    },
    {
      "cell_type": "code",
      "source": [
        "# Split data into training and testing sets\n",
        "X_train, X_test, y_train, y_test = train_test_split(df[\"text\"], df[\"label\"], test_size=0.2, random_state=50,stratify=df[\"label\"])"
      ],
      "metadata": {
        "execution": {
          "iopub.status.busy": "2024-04-03T00:39:40.598194Z",
          "iopub.execute_input": "2024-04-03T00:39:40.598932Z",
          "iopub.status.idle": "2024-04-03T00:39:40.789739Z",
          "shell.execute_reply.started": "2024-04-03T00:39:40.598876Z",
          "shell.execute_reply": "2024-04-03T00:39:40.788608Z"
        },
        "trusted": true,
        "id": "da6XHsimqHf3"
      },
      "execution_count": null,
      "outputs": []
    },
    {
      "cell_type": "code",
      "source": [
        "from sklearn.preprocessing import LabelEncoder\n",
        "label_encoder = LabelEncoder()\n",
        "\n",
        "y_train_encoded = label_encoder.fit_transform(y_train)\n",
        "y_test_encoded = label_encoder.transform(y_test)"
      ],
      "metadata": {
        "execution": {
          "iopub.status.busy": "2024-04-03T00:58:43.625099Z",
          "iopub.execute_input": "2024-04-03T00:58:43.625507Z",
          "iopub.status.idle": "2024-04-03T00:58:43.653185Z",
          "shell.execute_reply.started": "2024-04-03T00:58:43.625477Z",
          "shell.execute_reply": "2024-04-03T00:58:43.652323Z"
        },
        "trusted": true,
        "id": "4Fc8h4mUqHf3"
      },
      "execution_count": null,
      "outputs": []
    },
    {
      "cell_type": "code",
      "source": [
        "from tensorflow.keras.preprocessing.text import Tokenizer\n",
        "\n",
        "# convert to lowercase\n",
        "X_train_texts = [str(text).lower() for text in X_train]\n",
        "X_test_texts = [str(text).lower() for text in X_test]\n",
        "\n",
        "# Initialize Tokenizer\n",
        "tokenizer = Tokenizer(num_words=60000)\n",
        "tokenizer.fit_on_texts(X_train_texts)\n",
        "\n",
        "vocab_size = len(tokenizer.word_index) + 1\n",
        "max_seq_length = 100\n",
        "\n",
        "# Convert text sequences to numerical sequences\n",
        "X_train_seq = tokenizer.texts_to_sequences(X_train_texts)\n",
        "X_test_seq = tokenizer.texts_to_sequences(X_test_texts)\n",
        "\n",
        "# Pad sequences to ensure uniform length for modeling\n",
        "X_train_padded = tf.keras.preprocessing.sequence.pad_sequences(X_train_seq, maxlen=max_seq_length, padding='post')\n",
        "X_test_padded = tf.keras.preprocessing.sequence.pad_sequences(X_test_seq, maxlen=max_seq_length, padding='post')"
      ],
      "metadata": {
        "execution": {
          "iopub.status.busy": "2024-04-03T00:58:48.770199Z",
          "iopub.execute_input": "2024-04-03T00:58:48.770805Z",
          "iopub.status.idle": "2024-04-03T00:59:01.73326Z",
          "shell.execute_reply.started": "2024-04-03T00:58:48.770773Z",
          "shell.execute_reply": "2024-04-03T00:59:01.732192Z"
        },
        "trusted": true,
        "id": "SAOrGZxLqHf4"
      },
      "execution_count": null,
      "outputs": []
    },
    {
      "cell_type": "code",
      "source": [
        "from tensorflow.keras.models import Sequential\n",
        "from tensorflow.keras.layers import Embedding, LSTM, Dense, Bidirectional, BatchNormalization, Dropout\n",
        "\n",
        "# Define the Sequential model\n",
        "\n",
        "embedding_dim = 100\n",
        "vocab_size = len(tokenizer.word_index) + 1\n",
        "\n",
        "model = Sequential([\n",
        "    Embedding(input_dim=vocab_size, output_dim=embedding_dim, input_shape=(100,)),\n",
        "    Bidirectional(LSTM(128)),\n",
        "    BatchNormalization(),\n",
        "    Dropout(0.5),\n",
        "    Dense(64, activation='relu'),\n",
        "    Dropout(0.5),\n",
        "    Dense(6, activation='softmax')\n",
        "])"
      ],
      "metadata": {
        "execution": {
          "iopub.status.busy": "2024-04-03T01:19:47.666427Z",
          "iopub.execute_input": "2024-04-03T01:19:47.666867Z",
          "iopub.status.idle": "2024-04-03T01:19:47.881454Z",
          "shell.execute_reply.started": "2024-04-03T01:19:47.666831Z",
          "shell.execute_reply": "2024-04-03T01:19:47.879985Z"
        },
        "trusted": true,
        "id": "HRyqlUrJqHf4"
      },
      "execution_count": null,
      "outputs": []
    },
    {
      "cell_type": "code",
      "source": [
        "# Compile the model\n",
        "model.compile(loss='sparse_categorical_crossentropy', optimizer='adam', metrics=['accuracy'])\n",
        "\n",
        "num_epochs = 5  # Define number of epochs\n",
        "batch_size = 32  # Define batch size\n",
        "\n",
        "history = model.fit(X_train_padded, y_train_encoded, epochs=num_epochs, batch_size=batch_size, validation_data=(X_test_padded, y_test_encoded))"
      ],
      "metadata": {
        "execution": {
          "iopub.status.busy": "2024-04-03T01:21:35.480724Z",
          "iopub.execute_input": "2024-04-03T01:21:35.481174Z"
        },
        "trusted": true,
        "id": "EHTCh0KQqHf4",
        "outputId": "b7d9a4da-805c-4745-b5a6-4848a6b6e2f2",
        "colab": {
          "base_uri": "https://localhost:8080/"
        }
      },
      "execution_count": null,
      "outputs": [
        {
          "output_type": "stream",
          "name": "stdout",
          "text": [
            "Epoch 1/5\n",
            "10404/10404 [==============================] - 178s 16ms/step - loss: 0.2437 - accuracy: 0.8987 - val_loss: 0.1169 - val_accuracy: 0.9312\n",
            "Epoch 2/5\n",
            "10404/10404 [==============================] - 146s 14ms/step - loss: 0.1196 - accuracy: 0.9342 - val_loss: 0.1104 - val_accuracy: 0.9340\n",
            "Epoch 3/5\n",
            "10404/10404 [==============================] - 153s 15ms/step - loss: 0.1091 - accuracy: 0.9378 - val_loss: 0.1062 - val_accuracy: 0.9371\n",
            "Epoch 4/5\n",
            "10404/10404 [==============================] - 156s 15ms/step - loss: 0.1039 - accuracy: 0.9388 - val_loss: 0.1130 - val_accuracy: 0.9365\n",
            "Epoch 5/5\n",
            "10404/10404 [==============================] - 145s 14ms/step - loss: 0.0992 - accuracy: 0.9401 - val_loss: 0.1073 - val_accuracy: 0.9368\n"
          ]
        }
      ]
    },
    {
      "cell_type": "markdown",
      "source": [
        "# Inference"
      ],
      "metadata": {
        "id": "GZ1gYwGPA6q0"
      }
    },
    {
      "cell_type": "code",
      "source": [
        "loss, accuracy = model.evaluate(X_test_padded, y_test_encoded)\n",
        "print(f'Test Loss: {loss}, Test Accuracy: {accuracy}')"
      ],
      "metadata": {
        "trusted": true,
        "id": "5Q0YSPYqqHf5",
        "outputId": "bcd37f14-cf14-4e09-889c-871286beaefc",
        "colab": {
          "base_uri": "https://localhost:8080/"
        }
      },
      "execution_count": null,
      "outputs": [
        {
          "output_type": "stream",
          "name": "stdout",
          "text": [
            "2601/2601 [==============================] - 14s 5ms/step - loss: 0.1073 - accuracy: 0.9368\n",
            "Test Loss: 0.10728257149457932, Test Accuracy: 0.9367978572845459\n"
          ]
        }
      ]
    },
    {
      "cell_type": "code",
      "source": [
        "new_texts = ['It was a depressing moment', 'I am pissed off and sad today','This is a fine moment', 'I feel okay today']\n",
        "new_texts_seq = tokenizer.texts_to_sequences(new_texts)\n",
        "new_texts_padded = tf.keras.preprocessing.sequence.pad_sequences(new_texts_seq, maxlen=max_seq_length, padding='post')\n",
        "\n",
        "predictions = model.predict(new_texts_padded)\n",
        "predicted_labels = label_encoder.inverse_transform(predictions.argmax(axis=1))\n",
        "print(predicted_labels)"
      ],
      "metadata": {
        "trusted": true,
        "id": "OZ5KP4SRqHf5",
        "outputId": "0c2815f4-8b6c-474a-cf98-637aef73d45c",
        "colab": {
          "base_uri": "https://localhost:8080/"
        }
      },
      "execution_count": null,
      "outputs": [
        {
          "output_type": "stream",
          "name": "stdout",
          "text": [
            "1/1 [==============================] - 0s 26ms/step\n",
            "[0 0 3 0]\n"
          ]
        }
      ]
    },
    {
      "cell_type": "code",
      "source": [
        "# Test Predictions\n",
        "y_pred = model.predict(X_test_padded)\n",
        "y_pred = np.argmax(y_pred, axis=1)"
      ],
      "metadata": {
        "trusted": true,
        "id": "UCCxuEDXqHf6",
        "outputId": "7fe00e8e-0fd7-4128-da2b-8648210b2ed2",
        "colab": {
          "base_uri": "https://localhost:8080/"
        }
      },
      "execution_count": null,
      "outputs": [
        {
          "output_type": "stream",
          "name": "stdout",
          "text": [
            "2601/2601 [==============================] - 11s 4ms/step\n"
          ]
        }
      ]
    },
    {
      "cell_type": "code",
      "source": [
        "from sklearn.metrics import confusion_matrix\n",
        "\n",
        "cm_lstm = confusion_matrix(y_test_encoded, y_pred)\n",
        "\n",
        "# Plot confusion matrix with blue color\n",
        "plt.figure(figsize=(8, 6))\n",
        "sns.heatmap(cm_lstm, annot=True, fmt='d', cmap='Blues')\n",
        "plt.xlabel('Predicted labels')\n",
        "plt.ylabel('True labels')\n",
        "plt.title('Confusion Matrix')\n",
        "plt.show()"
      ],
      "metadata": {
        "trusted": true,
        "id": "kT3tvx-tqHf6",
        "outputId": "c02266b2-5812-45c8-e018-e84d26664662",
        "colab": {
          "base_uri": "https://localhost:8080/",
          "height": 564
        }
      },
      "execution_count": null,
      "outputs": [
        {
          "output_type": "display_data",
          "data": {
            "text/plain": [
              "<Figure size 800x600 with 2 Axes>"
            ],
            "image/png": "[encoded data removed]"
          },
          "metadata": {}
        }
      ]
    },
    {
      "cell_type": "code",
      "source": [
        "print(\"\\nConfusion matrix - LSTM:\")\n",
        "cm_lstm"
      ],
      "metadata": {
        "id": "w8fLBa7m7lLe",
        "outputId": "e11c6f13-93ee-4fc2-d42d-9b8f1d6a2d73",
        "colab": {
          "base_uri": "https://localhost:8080/"
        }
      },
      "execution_count": null,
      "outputs": [
        {
          "output_type": "stream",
          "name": "stdout",
          "text": [
            "\n",
            "Confusion matrix - LSTM:\n"
          ]
        },
        {
          "output_type": "execute_result",
          "data": {
            "text/plain": [
              "array([[23971,    76,     4,    97,    40,    10],\n",
              "       [  175, 27882,     7,    70,    18,     4],\n",
              "       [    1,  2030,  4862,     4,     1,     1],\n",
              "       [  602,    23,     0, 10368,   454,     0],\n",
              "       [  471,    11,     0,    86,  8174,   791],\n",
              "       [   21,   261,     0,     1,     1,  2708]])"
            ]
          },
          "metadata": {},
          "execution_count": 34
        }
      ]
    },
    {
      "cell_type": "markdown",
      "source": [
        "The confusion matrix shows that the model performs well in correctly predicting instances for classes with higher support ('sadness', 'joy', 'anger') but shows inconsistencies and misclassifications for classes with lower support ('love', 'surprise')."
      ],
      "metadata": {
        "id": "wExQ3lRh8aZY"
      }
    },
    {
      "cell_type": "code",
      "source": [
        "# Generate classification report\n",
        "print(\"\\nClassification Report:\")\n",
        "print(classification_report(y_test, y_pred))"
      ],
      "metadata": {
        "trusted": true,
        "id": "3wmGHaCjqHf7",
        "outputId": "d87ddcef-a5b2-453a-deb1-afd181c24285",
        "colab": {
          "base_uri": "https://localhost:8080/"
        }
      },
      "execution_count": null,
      "outputs": [
        {
          "output_type": "stream",
          "name": "stdout",
          "text": [
            "\n",
            "Classification Report:\n",
            "              precision    recall  f1-score   support\n",
            "\n",
            "           0       0.95      0.99      0.97     24198\n",
            "           1       0.92      0.99      0.95     28156\n",
            "           2       1.00      0.70      0.83      6899\n",
            "           3       0.98      0.91      0.94     11447\n",
            "           4       0.94      0.86      0.90      9533\n",
            "           5       0.77      0.91      0.83      2992\n",
            "\n",
            "    accuracy                           0.94     83225\n",
            "   macro avg       0.93      0.89      0.90     83225\n",
            "weighted avg       0.94      0.94      0.94     83225\n",
            "\n"
          ]
        }
      ]
    },
    {
      "cell_type": "markdown",
      "source": [
        "# Inference from classification report:\n",
        "\n",
        "Model seems to performing very well in predicting emotions as evidenced by the accuracy and classification metrics.\n",
        "\n",
        "1.   Precision: The model performed well in terms of precision for 'sadness', 'joy', 'anger', and 'fear'. This indicates that the model made fewer false positive predictions for these classes.\n",
        "\n",
        "2.   Recall: The recall values vary across classes, with some classes having high recall ('sadness', 'joy', 'anger') while relatively lower for others ('love', 'surprise'). This suggests that the model correctly identified a high percentage of actual instances for some classes but may have missed some instances for other classes.\n",
        "\n",
        "3.   F1-score: It shows a balanced measure of precision and recall. The model achieved good F1-scores for most classes, indicating a balance between precision and recall. However, some classes like 'love' and 'surprise' have relatively lower F1-scores compared to others\n",
        "\n",
        "\n",
        "\n",
        "\n"
      ],
      "metadata": {
        "id": "l-HhfCYH8iEh"
      }
    },
    {
      "cell_type": "markdown",
      "source": [
        "\n",
        "\n",
        "> Overall the model is good at predicting dominant emotions ('sadness', 'joy', 'anger', 'fear') but may require further tuning to improve predictions for less represented emotions ('love', 'surprise').\n",
        "\n"
      ],
      "metadata": {
        "id": "qES2JxE8_exH"
      }
    },
    {
      "cell_type": "code",
      "source": [],
      "metadata": {
        "id": "9Rvm3xDTqHf7"
      },
      "execution_count": null,
      "outputs": []
    }
  ]
}